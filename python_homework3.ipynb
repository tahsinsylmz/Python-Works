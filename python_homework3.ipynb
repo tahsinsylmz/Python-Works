{
 "cells":[
  {
   "cell_type":"code",
   "source":[
    "\n",
    "def kthkucuk(k, liste1):\n",
    "    liste1.sort()\n",
    "    if k <= len(liste1):\n",
    "        print(liste1[k - 1])\n",
    "    else:\n",
    "        print(\"Listenin eleman sayısı verilen değerden küçük olamaz!\")\n",
    "\n",
    "\n",
    "kthkucuk(3, [1, 2, 3, 5, 6, -2, -5])\n",
    "kthkucuk(5, [1, 2, 3, 5, 6, -2, -5])\n",
    "kthkucuk(2, [1, 2, 3, 5, 6, -2, -5, 122, 26, 23, 66])"
   ],
   "execution_count":null,
   "outputs":[
    
   ],
   "metadata":{
    "datalore":{
     "node_id":"leiF81Wiet3EdvhE4xgoNr",
     "type":"CODE",
     "hide_input_from_viewers":true,
     "hide_output_from_viewers":true
    }
   }
  },
  {
   "cell_type":"code",
   "source":[
    "\n",
    "import sys\n",
    "\n",
    "def encift(liste1, x):\n",
    "    #girilen listenin çift sayılarını bulma\n",
    "    liste2 = [i for i in liste1 if i % 2 == 0]\n",
    "    n = len(liste2)\n",
    "    sonuc1 = sonuc2 = 0  # Yakın sonucların değeri\n",
    "    deger = sys.maxsize  # minimum fark değeri\n",
    "\n",
    "    for i in range(n - 1):\n",
    "        for j in range(i + 1, n):\n",
    "            # Daha yakın sayı bulmak için\n",
    "            if abs(liste2[i] + liste2[j] - x) < deger:\n",
    "                sonuc1 = i\n",
    "                sonuc2 = j\n",
    "                deger = abs(liste2[i] + liste2[j] - x)\n",
    "\n",
    "    print(\"En yakın çiftler\", liste2[sonuc1], \"ve\", liste2[sonuc2])\n",
    "\n",
    "\n",
    "encift([1, 2, 3, 5, 6, -2, -5, 2], 3)\n",
    "encift([12, 2, 6, -2, 4, 20], 15)\n",
    "encift([12, 2, 6, -2, 4, 20], 11)"
   ],
   "execution_count":null,
   "outputs":[
    
   ],
   "metadata":{
    "datalore":{
     "node_id":"SDzXWMoPoZr8ussc4GycaO",
     "type":"CODE",
     "hide_input_from_viewers":true,
     "hide_output_from_viewers":true
    }
   }
  },
  {
   "cell_type":"code",
   "source":[
    "def listetekrar(A):\n",
    "    tekli = [i for i in A if A.count(i) == 1]\n",
    "    print(tekli)\n",
    "\n",
    "listetekrar([1, 2, 3, 2, 5, 1])"
   ],
   "execution_count":null,
   "outputs":[
    
   ],
   "metadata":{
    "datalore":{
     "node_id":"Ql4DWNk4x8nT5w01D1qGQM",
     "type":"CODE",
     "hide_input_from_viewers":true,
     "hide_output_from_viewers":true
    }
   }
  },
  {
   "cell_type":"code",
   "source":[
    "def cocuklar(kisiler_listesi, ana_baba):\n",
    "    yeni_liste = []\n",
    "    for kisi in kisiler_listesi:\n",
    "        # kisi adini, anne ve baba\n",
    "        kisi_ad, anne_ad, baba_ad = kisi.split()\n",
    "        if ana_baba == anne_ad:\n",
    "            yeni_liste.append([kisi_ad, anne_ad])\n",
    "        elif ana_baba == baba_ad:\n",
    "            yeni_liste.append([kisi_ad, baba_ad])\n",
    "    yeni_liste.sort(key=lambda x: x[0])\n",
    "    # cocuk isimleri ile liste olustur\n",
    "    cocuklar = [x[0] for x in yeni_liste]\n",
    "    return cocuklar\n",
    "\n",
    "kisiler_listesi = [\"Fadime Ayse Mehmet\", \"Ali Nurhan Hasan\", \"Selim Betül Mehmet\", \"Ahmet Ayse Osman\"]\n",
    "\n",
    "print(cocuklar(kisiler_listesi, \"Ayse\")) # [\"Ahmet\", \"Fadime\"]\n",
    "\n",
    "print(cocuklar(kisiler_listesi, \"Mehmet\")) # [\"Fadime\", \"Selim\"]"
   ],
   "execution_count":null,
   "outputs":[
    
   ],
   "metadata":{
    "datalore":{
     "node_id":"b6Iu7eQl5j938lNgHRSafd",
     "type":"CODE",
     "hide_input_from_viewers":true,
     "hide_output_from_viewers":true
    }
   }
  },
  {
   "cell_type":"code",
   "source":[
    "def matriscarpim(a, b):\n",
    "    # Çarpım sonuçlarınını yeni listede matris haline getiriyor\n",
    "    return [[sum(i * j for i, j in zip(r, c)) for c in zip(*b)]\n",
    "        for r in a]\n",
    "\n",
    "a = [[1, 2], [3, 4]]\n",
    "b = [[5, 1], [2, 1]]\n",
    "print(matriscarpim(a, b))"
   ],
   "execution_count":null,
   "outputs":[
    
   ],
   "metadata":{
    "datalore":{
     "node_id":"ewCgavTSIrhCvmpnqVHeSl",
     "type":"CODE",
     "hide_input_from_viewers":true,
     "hide_output_from_viewers":true
    }
   }
  },
  {
   "cell_type":"code",
   "source":[
    "metin = open(\"girdi.txt\", \"r\")\n",
    "sayım_l = dict()\n",
    "\n",
    "\n",
    "for satir in metin:\n",
    "    satir = satir.strip()\n",
    "    satir = satir.lower()\n",
    "    tüm_kelimeler = satir.split(\" \")\n",
    "\n",
    "    # düzenlenmiş kelimeleri sayma\n",
    "    for kelime in tüm_kelimeler:\n",
    "        if kelime in sayım_l:\n",
    "            sayım_l[kelime] = sayım_l[kelime] + 1\n",
    "        else:\n",
    "            sayım_l[kelime] = 1\n",
    "\n",
    "for key in list(sayım_l.keys()):\n",
    "    print(key, \":\", sayım_l[key])\n",
    "\n",
    "\n",
    "# ------girdi.txt-------\n",
    "# elma armut elma kiraz elma armut kiraz armut kiraz armut kiraz armut kiraz armut kiraz armut kiraz kiraz\n",
    "# ----------------------\n",
    "# \n",
    "# elma=3\n",
    "# armut=7\n",
    "# kiraz=8"
   ],
   "execution_count":null,
   "outputs":[
    
   ],
   "metadata":{
    "datalore":{
     "node_id":"FPUSmC06B2tBTRWgHDCvFa",
     "type":"CODE",
     "hide_input_from_viewers":true,
     "hide_output_from_viewers":true
    }
   }
  }
 ],
 "metadata":{
  "kernelspec":{
   "display_name":"Python",
   "language":"python",
   "name":"python"
  },
  "datalore":{
   "computation_mode":"JUPYTER",
   "package_manager":"pip",
   "base_environment":"default",
   "packages":[
    
   ],
   "report_row_ids":[
    
   ],
   "version":2
  }
 },
 "nbformat":4,
 "nbformat_minor":4
}